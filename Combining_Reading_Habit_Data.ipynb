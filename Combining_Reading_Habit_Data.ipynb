{
  "nbformat": 4,
  "nbformat_minor": 0,
  "metadata": {
    "colab": {
      "provenance": [],
      "authorship_tag": "ABX9TyODYA1e9NrW7K8p6DdPuybe",
      "include_colab_link": true
    },
    "kernelspec": {
      "name": "python3",
      "display_name": "Python 3"
    },
    "language_info": {
      "name": "python"
    }
  },
  "cells": [
    {
      "cell_type": "markdown",
      "metadata": {
        "id": "view-in-github",
        "colab_type": "text"
      },
      "source": [
        "<a href=\"https://colab.research.google.com/github/nirmalghimire/Morocco-Reading-Habit/blob/main/Combining_Reading_Habit_Data.ipynb\" target=\"_parent\"><img src=\"https://colab.research.google.com/assets/colab-badge.svg\" alt=\"Open In Colab\"/></a>"
      ]
    },
    {
      "cell_type": "code",
      "execution_count": null,
      "metadata": {
        "colab": {
          "base_uri": "https://localhost:8080/"
        },
        "id": "z8bM_yzXc6Qn",
        "outputId": "b07e5d7d-0fa5-4525-fc57-0c79a836b103"
      },
      "outputs": [
        {
          "output_type": "stream",
          "name": "stdout",
          "text": [
            "Mounted at /content/drive\n",
            "              Dataset  Dimensions  \\\n",
            "0          Final Data  (703, 123)   \n",
            "1        Reading Data   (701, 72)   \n",
            "2  TV & Internet Data   (702, 72)   \n",
            "\n",
            "                                        Column Names  \n",
            "0  [End Date, IP Address, Progress, Duration (in ...  \n",
            "1  [duration_in_seconds, ip_address, q4, q6, q7, ...  \n",
            "2  [duration_in_seconds, ip_address, q4, q6, q7, ...  \n"
          ]
        }
      ],
      "source": [
        "# Mount Google Drive\n",
        "from google.colab import drive\n",
        "drive.mount('/content/drive')\n",
        "\n",
        "# Load Required Libraries\n",
        "import pandas as pd\n",
        "\n",
        "# Load Data (Final Data)\n",
        "final_file_path = '/content/drive/My Drive/Moroccan Reading Habit/final_data.csv'\n",
        "final_data = pd.read_csv(final_file_path)\n",
        "\n",
        "reading_file_path = '/content/drive/My Drive/Moroccan Reading Habit/reading_data.csv'\n",
        "reading_data = pd.read_csv(reading_file_path)\n",
        "\n",
        "ti_file_path = '/content/drive/My Drive/Moroccan Reading Habit/tv_internet_data.csv'\n",
        "tv_internet_data = pd.read_csv(ti_file_path)\n",
        "\n",
        "# Get dimensions and column names\n",
        "datasets_info = {\n",
        "    'Dataset': ['Final Data', 'Reading Data', 'TV & Internet Data'],\n",
        "    'Dimensions': [final_data.shape, reading_data.shape, tv_internet_data.shape],\n",
        "    'Column Names': [final_data.columns.tolist(), reading_data.columns.tolist(), tv_internet_data.columns.tolist()]\n",
        "}\n",
        "\n",
        "# Create a DataFrame\n",
        "info_df = pd.DataFrame(datasets_info)\n",
        "\n",
        "# Display as a nice-looking table\n",
        "print(info_df)"
      ]
    },
    {
      "cell_type": "code",
      "source": [
        "# Data Columns (Fianl data)\n",
        "final_data.columns.tolist()\n",
        "\n",
        "# First five rows\n",
        "# first_five_rows = final_data.head()\n",
        "# print(\"First five rows:\")\n",
        "# print(first_five_rows)\n",
        "\n",
        "# Last three rows\n",
        "# last_three_rows = final_data.tail(3)\n",
        "# print(\"\\nLast three rows:\")\n",
        "# print(last_three_rows)"
      ],
      "metadata": {
        "id": "M4CBIonEevTq",
        "colab": {
          "base_uri": "https://localhost:8080/"
        },
        "outputId": "c5783b9e-14b6-4eed-d00f-31106664226b"
      },
      "execution_count": null,
      "outputs": [
        {
          "output_type": "execute_result",
          "data": {
            "text/plain": [
              "['End Date',\n",
              " 'IP Address',\n",
              " 'Progress',\n",
              " 'Duration (in seconds)',\n",
              " 'Response ID',\n",
              " 'Please choose ONE answer.',\n",
              " 'Enter your email address so we can contact you if you are one of the winners of the $25 Amazon Gift Card.',\n",
              " 'What is your gender?',\n",
              " 'What is you age range?',\n",
              " 'How long have you been teaching English?',\n",
              " 'Current school location',\n",
              " 'Tell us about your education and work experience. - Selected Choice',\n",
              " 'Tell us about your education and work experience. - Other (please specify: _______________________) - Text',\n",
              " 'What is your school affiliation?',\n",
              " 'Where do you teach English?',\n",
              " 'Select the region where your school is located?',\n",
              " 'Which of the following items do you personally own or have access to in school or at work (Select as many answers as you need next to each of the items) - Cell Phone',\n",
              " 'Which of the following items do you personally own or have access to in school or at work (Select as many answers as you need next to each of the items) - Smart Phone with Internet Connection (e.g., Samsung, I-Phone)',\n",
              " 'Which of the following items do you personally own or have access to in school or at work (Select as many answers as you need next to each of the items) - MP3 Player or IPod',\n",
              " 'Which of the following items do you personally own or have access to in school or at work (Select as many answers as you need next to each of the items) - Laptop Computer or Tablet',\n",
              " 'Which of the following items do you personally own or have access to in school or at work (Select as many answers as you need next to each of the items) - Desktop Computer',\n",
              " 'Which of the following items do you personally own or have access to in school or at work (Select as many answers as you need next to each of the items) - High Speed Internet Access',\n",
              " 'Which of the following items do you personally own or have access to in school or at work (Select as many answers as you need next to each of the items) - Television Set',\n",
              " 'Which of the following items do you personally own or have access to in school or at work (Select as many answers as you need next to each of the items) - DVD/CD or Tape Player',\n",
              " 'Which of the following items do you personally own or have access to in school or at work (Select as many answers as you need next to each of the items) - Video game Player (e.g., Xbox, Playstation)',\n",
              " 'Which of the following items do you personally own or have access to in school or at work (Select as many answers as you need next to each of the items) - Other (Please specify)',\n",
              " 'Which of the following items do you personally own or have access to in school or at work (Select as many answers as you need next to each of the items) - Other (Please specify) - Text',\n",
              " 'Thinking only about yesterday, how much time did you spend doing the following:(Select one answer next to each of the following activities) - Hanging out with friends',\n",
              " 'Thinking only about yesterday, how much time did you spend doing the following:(Select one answer next to each of the following activities) - Being physically active or exercising (e.g., playing sports, working out, running, etc.)',\n",
              " 'Thinking only about yesterday, how much time did you spend doing the following:(Select one answer next to each of the following activities) - Participating in other activities (e.g., clubs, music, art, or hobbies)',\n",
              " 'Thinking only about yesterday, how much time did you spend doing the following:(Select one answer next to each of the following activities) - Using the Internet',\n",
              " 'Thinking only about yesterday, how much time did you spend doing the following:(Select one answer next to each of the following activities) - Reading for school/doing homework',\n",
              " 'Thinking only about yesterday, how much time did you spend doing the following:(Select one answer next to each of the following activities) - Doing chores',\n",
              " 'Thinking only about yesterday, how much time did you spend doing the following:(Select one answer next to each of the following activities) - Reading for fun or pleasure',\n",
              " 'Thinking only about yesterday, how much time did you spend doing the following:(Select one answer next to each of the following activities) - Writing',\n",
              " 'Thinking only about yesterday, how much time did you spend doing the following:(Select one answer next to each of the following activities) - Playing video games',\n",
              " 'Thinking only about yesterday, how much time did you spend doing the following:(Select one answer next to each of the following activities) - Watching TV',\n",
              " 'Thinking only about yesterday, how much time did you spend doing the following:(Select one answer next to each of the following activities) - Other (Please specify)',\n",
              " 'Thinking only about yesterday, how much time did you spend doing the following:(Select one answer next to each of the following activities) - Other (Please specify) - Text',\n",
              " 'Which of the following      materials did you read for fun yesterday? (Select as many answers      as needed) - Selected Choice',\n",
              " 'Which of the following      materials did you read for fun yesterday? (Select as many answers      as needed) - Other materials in print (please specify) - Text',\n",
              " 'During which parts of the      day yesterday did you read for fun? (Select the time block or      blocks during which you read for fun yesterday)',\n",
              " 'Thinking about yesterday,      about how much time did you spend reading for fun? Select the choice      that best describes the amount of time you spent reading for pleasure      during the time block(s) you selected above.',\n",
              " 'While you were reading books, magazines, or newspapers for fun, how often did you do any of the following activities or tasks at the same time: - Watching TV, videos or DVDs',\n",
              " 'While you were reading books, magazines, or newspapers for fun, how often did you do any of the following activities or tasks at the same time: - Listening to music',\n",
              " 'While you were reading books, magazines, or newspapers for fun, how often did you do any of the following activities or tasks at the same time: - Reading in support of teaching  or professional development',\n",
              " 'While you were reading books, magazines, or newspapers for fun, how often did you do any of the following activities or tasks at the same time: - Writing',\n",
              " 'While you were reading books, magazines, or newspapers for fun, how often did you do any of the following activities or tasks at the same time: - Talking on the phone or texting',\n",
              " 'While you were reading books, magazines, or newspapers for fun, how often did you do any of the following activities or tasks at the same time: - Playing games online',\n",
              " 'While you were reading books, magazines, or newspapers for fun, how often did you do any of the following activities or tasks at the same time: - Social Networking, Email, or other Internet-based communication',\n",
              " 'While you were reading books, magazines, or newspapers for fun, how often did you do any of the following activities or tasks at the same time: - Other (Please specify)',\n",
              " 'While you were reading books, magazines, or newspapers for fun, how often did you do any of the following activities or tasks at the same time: - Other (Please specify) - Text',\n",
              " 'In general, did you feel that the time you spent reading for fun yesterday took time away from doing any of the following activities or tasks? - Reading in support of teaching  or professional development',\n",
              " 'In general, did you feel that the time you spent reading for fun yesterday took time away from doing any of the following activities or tasks? - Watching TV, videos or DVDs',\n",
              " 'In general, did you feel that the time you spent reading for fun yesterday took time away from doing any of the following activities or tasks? - Writing',\n",
              " 'In general, did you feel that the time you spent reading for fun yesterday took time away from doing any of the following activities or tasks? - Socializing (in person) with friends or family',\n",
              " 'In general, did you feel that the time you spent reading for fun yesterday took time away from doing any of the following activities or tasks? - Social Networking, Email, or other Internet-based communication',\n",
              " 'In general, did you feel that the time you spent reading for fun yesterday took time away from doing any of the following activities or tasks? - Playing games online',\n",
              " 'In general, did you feel that the time you spent reading for fun yesterday took time away from doing any of the following activities or tasks? - Other (Please specify)',\n",
              " 'In general, did you feel that the time you spent reading for fun yesterday took time away from doing any of the following activities or tasks? - Other (Please specify) - Text',\n",
              " 'In      general, did you feel that doing multiple tasks at the same time affected      your ability to concentrate on the materials you were reading for fun?',\n",
              " 'Which      of the following materials did you read yesterday in relation to  your classes or teaching?      (Select as many answers as needed) - Selected Choice',\n",
              " 'Which      of the following materials did you read yesterday in relation to  your classes or teaching?      (Select as many answers as needed) - Other materials-Please specify - Text',\n",
              " 'During which parts of the day yesterday did you read in support of your teaching or professional development? (Select the time block or blocks during which you read in support of your teaching or professional development )',\n",
              " 'Thinking      about yesterday, about how much time did you spend reading for your classes or for your teaching? Select the category that best describes your answer.',\n",
              " 'While      you were reading for your classes or for your teaching teaching yesterday,      how often did you do any of the following activities at the same time? - Watching TV, videos or DVDs',\n",
              " 'While      you were reading for your classes or for your teaching teaching yesterday,      how often did you do any of the following activities at the same time? - Listening to Music',\n",
              " 'While      you were reading for your classes or for your teaching teaching yesterday,      how often did you do any of the following activities at the same time? - Writing',\n",
              " 'While      you were reading for your classes or for your teaching teaching yesterday,      how often did you do any of the following activities at the same time? - Talking on the phone or texting',\n",
              " 'While      you were reading for your classes or for your teaching teaching yesterday,      how often did you do any of the following activities at the same time? - Playing video games',\n",
              " 'While      you were reading for your classes or for your teaching teaching yesterday,      how often did you do any of the following activities at the same time? - Social Networking, Email, or other Internet-based communication',\n",
              " 'While      you were reading for your classes or for your teaching teaching yesterday,      how often did you do any of the following activities at the same time? - Other (Please specify)',\n",
              " 'While      you were reading for your classes or for your teaching teaching yesterday,      how often did you do any of the following activities at the same time? - Other (Please specify) - Text',\n",
              " 'In general, did you feel that the time you spent reading for classes, for your teaching, or for your professional development yesterday took time away from any of the following activities or tasks? - Reading for fun',\n",
              " 'In general, did you feel that the time you spent reading for classes, for your teaching, or for your professional development yesterday took time away from any of the following activities or tasks? - Watching TV, videos or DVDs',\n",
              " 'In general, did you feel that the time you spent reading for classes, for your teaching, or for your professional development yesterday took time away from any of the following activities or tasks? - Writing',\n",
              " 'In general, did you feel that the time you spent reading for classes, for your teaching, or for your professional development yesterday took time away from any of the following activities or tasks? - Socializing (in person) with friends or family',\n",
              " 'In general, did you feel that the time you spent reading for classes, for your teaching, or for your professional development yesterday took time away from any of the following activities or tasks? - Social Networking, Email, or other Internet-based communication',\n",
              " 'In general, did you feel that the time you spent reading for classes, for your teaching, or for your professional development yesterday took time away from any of the following activities or tasks? - Other (Please specify)',\n",
              " 'In general, did you feel that the time you spent reading for classes, for your teaching, or for your professional development yesterday took time away from any of the following activities or tasks? - Other (Please specify) - Text',\n",
              " 'In      general, did you feel that doing multiple tasks at the same time affected      your ability to concentrate on the materials you were reading for your classes or for your teaching?',\n",
              " 'Thinking only about yesterday,      about how much time did you spend watching TV? Select the category that      best describes the amount of time you spent reading for pleasure during      the time block(s) you selected above.',\n",
              " 'Which of the following programs did you watch on TV yesterday? (Select as many answers as needed) - Selected Choice',\n",
              " 'Which of the following programs did you watch on TV yesterday? (Select as many answers as needed) - Other-Please specify - Text',\n",
              " 'During which parts of the      day yesterday did you watch TV? (Select the time block or blocks during      which you watched TV yesterday.',\n",
              " 'While you were watching TV yesterday, how often did you do any of the following activities or tasks at the same time? - Reading for fun',\n",
              " 'While you were watching TV yesterday, how often did you do any of the following activities or tasks at the same time? - Listening to Music',\n",
              " 'While you were watching TV yesterday, how often did you do any of the following activities or tasks at the same time? - Reading for teaching or professional development',\n",
              " 'While you were watching TV yesterday, how often did you do any of the following activities or tasks at the same time? - Writing',\n",
              " 'While you were watching TV yesterday, how often did you do any of the following activities or tasks at the same time? - Talking on the phone or texting',\n",
              " 'While you were watching TV yesterday, how often did you do any of the following activities or tasks at the same time? - Playing video games',\n",
              " 'While you were watching TV yesterday, how often did you do any of the following activities or tasks at the same time? - Social Networking, Email, or other Internet-based communication',\n",
              " 'While you were watching TV yesterday, how often did you do any of the following activities or tasks at the same time? - Other: Please specify',\n",
              " 'While you were watching TV yesterday, how often did you do any of the following activities or tasks at the same time? - Other: Please specify - Text',\n",
              " 'In general, did you feel that the time you spent watching TV yesterday took time away from any of the following activities or tasks? - Reading for professional development',\n",
              " 'In general, did you feel that the time you spent watching TV yesterday took time away from any of the following activities or tasks? - Reading for fun',\n",
              " 'In general, did you feel that the time you spent watching TV yesterday took time away from any of the following activities or tasks? - Social Networking, Email, or other Internet-based communication',\n",
              " 'In general, did you feel that the time you spent watching TV yesterday took time away from any of the following activities or tasks? - Writing',\n",
              " 'In general, did you feel that the time you spent watching TV yesterday took time away from any of the following activities or tasks? - Socializing (in person) with friends or family',\n",
              " 'In general, did you feel that the time you spent watching TV yesterday took time away from any of the following activities or tasks? - Other (Please specify)',\n",
              " 'In general, did you feel that the time you spent watching TV yesterday took time away from any of the following activities or tasks? - Other (Please specify) - Text',\n",
              " 'In general, did you feel      that doing multiple activities or tasks at the same time affected your ability      to concentrate on the programs you were watching on TV?',\n",
              " 'Thinking only about yesterday,     about how much time did you spend on-line using the Internet? Select the     category that best describes the amount of time you spent using the     Internet during the time block(s) you selected above.',\n",
              " 'Which of the following      activities did you do while using the Internet yesterday? (Select      as many answers as needed) - Selected Choice',\n",
              " 'Which of the following      activities did you do while using the Internet yesterday? (Select      as many answers as needed) - Other-Please specify - Text',\n",
              " 'During which parts of the     day yesterday did you use the Internet? (Select the time block or     blocks during which you were on-line yesterday.',\n",
              " 'While you were using the Internet yesterday, how often did you do any of the following activities or tasks at the same time: - Reading for teaching or professional development',\n",
              " 'While you were using the Internet yesterday, how often did you do any of the following activities or tasks at the same time: - Reading for fun',\n",
              " 'While you were using the Internet yesterday, how often did you do any of the following activities or tasks at the same time: - Listening to Music',\n",
              " 'While you were using the Internet yesterday, how often did you do any of the following activities or tasks at the same time: - Watching TV',\n",
              " 'While you were using the Internet yesterday, how often did you do any of the following activities or tasks at the same time: - Writing',\n",
              " 'While you were using the Internet yesterday, how often did you do any of the following activities or tasks at the same time: - Talking on the phone or texting',\n",
              " 'While you were using the Internet yesterday, how often did you do any of the following activities or tasks at the same time: - Playing video games (not online)',\n",
              " 'While you were using the Internet yesterday, how often did you do any of the following activities or tasks at the same time: - Other (Please specify)',\n",
              " 'While you were using the Internet yesterday, how often did you do any of the following activities or tasks at the same time: - Other (Please specify) - Text',\n",
              " 'In general, did you feel that the time you spent on-line using the Internet yesterday took time away from any of the following activities? - Reading for teaching or professional development',\n",
              " 'In general, did you feel that the time you spent on-line using the Internet yesterday took time away from any of the following activities? - Reading for fun',\n",
              " 'In general, did you feel that the time you spent on-line using the Internet yesterday took time away from any of the following activities? - Watching TV',\n",
              " 'In general, did you feel that the time you spent on-line using the Internet yesterday took time away from any of the following activities? - Writing',\n",
              " 'In general, did you feel that the time you spent on-line using the Internet yesterday took time away from any of the following activities? - Socializing (in person) with friends or family',\n",
              " 'In general, did you feel that the time you spent on-line using the Internet yesterday took time away from any of the following activities? - Other (Please specify)',\n",
              " 'In general, did you feel that the time you spent on-line using the Internet yesterday took time away from any of the following activities? - Other (Please specify) - Text',\n",
              " 'In general, did you feel      that doing multiple activities at the same time affected your ability to      concentrate on what you were doing while using the Internet?']"
            ]
          },
          "metadata": {},
          "execution_count": 6
        }
      ]
    },
    {
      "cell_type": "code",
      "source": [
        "# Data Columns (Reading Data)\n",
        "reading_data.columns"
      ],
      "metadata": {
        "colab": {
          "base_uri": "https://localhost:8080/"
        },
        "id": "2ZOO9SVTuIke",
        "outputId": "1eb4ba12-1717-40b8-d714-3782649439ba"
      },
      "execution_count": null,
      "outputs": [
        {
          "output_type": "execute_result",
          "data": {
            "text/plain": [
              "Index(['duration_in_seconds', 'ip_address', 'q4', 'q6', 'q7', 'q8',\n",
              "       'q8_6_text', 'q12_1', 'q12_2', 'q12_3', 'q12_4', 'q12_5', 'q12_6',\n",
              "       'q12_7', 'q12_8', 'q12_9', 'q12_10', 'q12_10_text', 'q13_1', 'q13_2',\n",
              "       'q13_3', 'q13_4', 'q13_5', 'q13_6', 'q13_7', 'q13_8', 'q13_9', 'q13_10',\n",
              "       'q13_11', 'q13_11_text', 'q14', 'q14_5_text', 'q15', 'q16', 'q17_1',\n",
              "       'q17_2', 'q17_3', 'q17_4', 'q17_5', 'q17_6', 'q17_7', 'q17_8',\n",
              "       'q17_8_text', 'q18_1', 'q18_2', 'q18_3', 'q18_4', 'q18_5', 'q18_6',\n",
              "       'q18_7', 'q18_7_text', 'q19', 'q20', 'q20_9_text', 'q21', 'q22',\n",
              "       'q23_1', 'q23_2', 'q23_3', 'q23_4', 'q23_5', 'q23_6', 'q23_7',\n",
              "       'q23_7_text', 'q24_1', 'q24_2', 'q24_3', 'q24_4', 'q24_5', 'q24_6',\n",
              "       'q24_6_text', 'q25'],\n",
              "      dtype='object')"
            ]
          },
          "metadata": {},
          "execution_count": 55
        }
      ]
    },
    {
      "cell_type": "code",
      "source": [
        "# Data Columns (TV Internet Data)\n",
        "tv_internet_data.columns"
      ],
      "metadata": {
        "colab": {
          "base_uri": "https://localhost:8080/"
        },
        "id": "Ld_I8-jbuOrf",
        "outputId": "d23cc1c2-0c1b-4d13-de35-53f300159ffe"
      },
      "execution_count": null,
      "outputs": [
        {
          "output_type": "execute_result",
          "data": {
            "text/plain": [
              "Index(['duration_in_seconds', 'ip_address', 'q4', 'q6', 'q7', 'q8',\n",
              "       'q8_6_text', 'q12_1', 'q12_2', 'q12_3', 'q12_4', 'q12_5', 'q12_6',\n",
              "       'q12_7', 'q12_8', 'q12_9', 'q12_10', 'q12_10_text', 'q13_1', 'q13_2',\n",
              "       'q13_3', 'q13_4', 'q13_5', 'q13_6', 'q13_7', 'q13_8', 'q13_9', 'q13_10',\n",
              "       'q13_11', 'q13_11_text', 'q26', 'q27', 'q27_8_text', 'q28', 'q29_1',\n",
              "       'q29_2', 'q29_3', 'q29_4', 'q29_5', 'q29_6', 'q29_7', 'q29_8',\n",
              "       'q29_8_text', 'q30_1', 'q30_2', 'q30_3', 'q30_4', 'q30_5', 'q30_6',\n",
              "       'q30_6_text', 'q31', 'q32', 'q33', 'q33_16_text', 'q34', 'q35_1',\n",
              "       'q35_2', 'q35_3', 'q35_4', 'q35_5', 'q35_6', 'q35_7', 'q35_8',\n",
              "       'q35_8_text', 'q36_1', 'q36_2', 'q36_3', 'q36_4', 'q36_5', 'q36_6',\n",
              "       'q36_6_text', 'q37'],\n",
              "      dtype='object')"
            ]
          },
          "metadata": {},
          "execution_count": 56
        }
      ]
    },
    {
      "cell_type": "code",
      "source": [
        "# Merge the two dataframes on the overlapping columns\n",
        "# Identify common columns\n",
        "common_columns = list(set(reading_data.columns) & set(tv_internet_data.columns))\n",
        "\n",
        "# Convert all common columns to object type to ensure compatibility\n",
        "for col in common_columns:\n",
        "    reading_data[col] = reading_data[col].astype(str)\n",
        "    tv_internet_data[col] = tv_internet_data[col].astype(str)\n",
        "\n",
        "# Merge the dataframes on the common columns\n",
        "merged_data = pd.merge(reading_data, tv_internet_data, on=common_columns, how='outer')\n",
        "\n",
        "# Display the merged dataframe to ensure correctness\n",
        "print(\"Merged Data Head:\")\n",
        "print(merged_data.head())\n",
        "\n",
        "# Check the columns in the merged dataframe\n",
        "merged_columns = merged_data.columns\n",
        "\n",
        "# Print the merged columns to ensure no repetition\n",
        "print(\"Merged Data Columns:\")\n",
        "print(merged_columns)\n",
        "print(merged_data.dtypes)\n",
        "\n",
        "# Ensure that no columns are repeated\n",
        "reading_unique_columns = set(reading_data.columns) - set(common_columns)\n",
        "tv_internet_unique_columns = set(tv_internet_data.columns) - set(common_columns)\n",
        "expected_columns = set(common_columns).union(reading_unique_columns).union(tv_internet_unique_columns)\n",
        "\n",
        "# Verify that the merged columns match the expected columns\n",
        "if set(merged_columns) == expected_columns:\n",
        "    print(\"No columns are repeated in the merged dataframe.\")\n",
        "else:\n",
        "    print(\"There are repeated columns in the merged dataframe.\")\n",
        "\n",
        "# Save the merged data to a new CSV file in the specified location\n",
        "file_path = '/content/drive/My Drive/Moroccan Reading Habit/merged_data.csv'\n",
        "merged_data.to_csv(file_path, index=False)\n",
        "\n",
        "print(f\"Merged data saved to {file_path}\")"
      ],
      "metadata": {
        "colab": {
          "base_uri": "https://localhost:8080/"
        },
        "id": "JJ5F4bccvjPb",
        "outputId": "154dbe5d-a66e-41e2-93b4-40ef05397241"
      },
      "execution_count": null,
      "outputs": [
        {
          "output_type": "stream",
          "name": "stdout",
          "text": [
            "Merged Data Head:\n",
            "  duration_in_seconds      ip_address      q4           q6        q7  \\\n",
            "0               10352   105.154.38.39  Female  11-15 years  Suburban   \n",
            "1                1010  196.118.24.254    Male      16 - 20     Urban   \n",
            "2                 947  196.118.24.254  Female      16 - 20     Urban   \n",
            "3                 821   105.69.54.235    Male          20+     Urban   \n",
            "4                1342  41.251.198.213    Male   6-10 years     Urban   \n",
            "\n",
            "                                                  q8 q8_6_text  \\\n",
            "0  I am an-service teacher (i.e., I am currently ...       nan   \n",
            "1  I am a pre-service teacher (i.e., I am current...       nan   \n",
            "2  I am an-service teacher (i.e., I am currently ...       nan   \n",
            "3  I am an-service teacher (i.e., I am currently ...       nan   \n",
            "4  I am an-service teacher (i.e., I am currently ...       nan   \n",
            "\n",
            "              q12_1             q12_2             q12_3  ... q35_8 q35_8_text  \\\n",
            "0  I personally own  I personally own               nan  ...   NaN        NaN   \n",
            "1  I have access to               nan               nan  ...   NaN        NaN   \n",
            "2  I personally own  I personally own               nan  ...   NaN        NaN   \n",
            "3  I personally own               nan  I personally own  ...   NaN        NaN   \n",
            "4  I personally own               nan               nan  ...   NaN        NaN   \n",
            "\n",
            "      q36_1 q36_2     q36_3     q36_4 q36_5 q36_6 q36_6_text         q37  \n",
            "0        No    No        No       Yes    No   NaN        NaN   Yes, some  \n",
            "1  Not sure   NaN  Not sure  Not sure   NaN   NaN        NaN  Yes, a lot  \n",
            "2        No    No        No        No    No   NaN        NaN   Yes, some  \n",
            "3  Not sure   NaN       NaN       NaN   NaN   NaN        NaN   Yes, some  \n",
            "4       Yes    No        No       Yes   Yes   NaN        NaN   Yes, some  \n",
            "\n",
            "[5 rows x 114 columns]\n",
            "Merged Data Columns:\n",
            "Index(['duration_in_seconds', 'ip_address', 'q4', 'q6', 'q7', 'q8',\n",
            "       'q8_6_text', 'q12_1', 'q12_2', 'q12_3',\n",
            "       ...\n",
            "       'q35_8', 'q35_8_text', 'q36_1', 'q36_2', 'q36_3', 'q36_4', 'q36_5',\n",
            "       'q36_6', 'q36_6_text', 'q37'],\n",
            "      dtype='object', length=114)\n",
            "duration_in_seconds    object\n",
            "ip_address             object\n",
            "q4                     object\n",
            "q6                     object\n",
            "q7                     object\n",
            "                        ...  \n",
            "q36_4                  object\n",
            "q36_5                  object\n",
            "q36_6                  object\n",
            "q36_6_text             object\n",
            "q37                    object\n",
            "Length: 114, dtype: object\n",
            "No columns are repeated in the merged dataframe.\n",
            "Merged data saved to /content/drive/My Drive/Moroccan Reading Habit/merged_data.csv\n"
          ]
        }
      ]
    },
    {
      "cell_type": "code",
      "source": [
        "# Extract row 702\n",
        "column_descriptions = merged_data.iloc[701]\n",
        "\n",
        "# Remove row 702\n",
        "merged_data = merged_data.drop(index=701).reset_index(drop=True)\n",
        "\n",
        "# Display the descriptions\n",
        "print(column_descriptions)"
      ],
      "metadata": {
        "colab": {
          "base_uri": "https://localhost:8080/"
        },
        "id": "BytwGQso5Glf",
        "outputId": "9b8b00f1-1694-42a3-bc93-de6037a1cff6"
      },
      "execution_count": null,
      "outputs": [
        {
          "output_type": "stream",
          "name": "stdout",
          "text": [
            "duration_in_seconds                                Duration (in seconds)\n",
            "ip_address                                                    IP Address\n",
            "q4                                                  What is your gender?\n",
            "q6                              How long have you been teaching English?\n",
            "q7                                               Current school location\n",
            "                                             ...                        \n",
            "q36_4                  In general, did you feel that the time you spe...\n",
            "q36_5                  In general, did you feel that the time you spe...\n",
            "q36_6                  In general, did you feel that the time you spe...\n",
            "q36_6_text             In general, did you feel that the time you spe...\n",
            "q37                    In general, did you feel      that doing multi...\n",
            "Name: 701, Length: 114, dtype: object\n"
          ]
        }
      ]
    },
    {
      "cell_type": "markdown",
      "source": [
        "## Variables and their Raw Description\n",
        "We can pu the total variables in 6-different buckets based on the their types and usability.\n",
        "\n",
        "### a. ID Related Columns (to be discarded):\n",
        "* `End Date`\n",
        "* `Progress`\n",
        "* `Response ID`\n",
        "* `duration_in_seconds`: \"Duration (in seconds)\"\n",
        "* `ip_address`: \"IP Address\"\n",
        "\n",
        "### b. Demographic Information Columns\n",
        "* `q4`: `gender`: \"What is your gender?\"\n",
        "* `q6`: `experience`: \"How long have you been teaching English?\"\n",
        "* `q7`: `sch_type`: \"Current school location\"\n",
        "* `q8`: `tchr_type`: \"Type of teacher (pre-service/in-service)\"\n",
        "\n",
        "### b.i. Digital Devices Owned by the Teachers\n",
        "* `q12_1`: `device_cellphone` : \"Which of the following items do you personally own or have access to in school or at work (Select as many answers as you need next to each of the items) - **Cell Phone**\"\n",
        "* `q12_2`: `device_smrtphone_winternet` : \"Which of the following items do you personally own or have access to in school or at work (Select as many answers as you need next to each of the items) - **Smart Phone with Internet Connection (e.g., Samsung, I-Phone)**\"\n",
        "* `q12_3`: `device_mp3_ipod` : \"Which of the following items do you personally own or have access to in school or at work (Select as many answers as you need next to each of the items) - **MP3 Player or IPod**\"\n",
        "* `q12_4`: `device_tablet_laptop` : \"Which of the following items do you personally own or have access to in school or at work (Select as many answers as you need next to each of the items) - **Laptop Computer or Tablet**\"\n",
        "* `q12_5`: `device_desktop` : \"Which of the following items do you personally own or have access to in school or at work (Select as many answers as you need next to each of the items) - **Desktop Computer**\"\n",
        "* `q12_6`: `device_highspeed_internet` : \"Which of the following items do you personally own or have access to in school or at work (Select as many answers as you need next to each of the items) - **High Speed Internet Access**\"\n",
        "* `q12_7`: `device_tvset` : \"Which of the following items do you personally own or have access to in school or at work (Select as many answers as you need next to each of the items) - **Television Set**\"\n",
        "* `q12_8`: `device_dvd_cdplayer` : \"Which of the following items do you personally own or have access to in school or at work (Select as many answers as you need next to each of the items) - **DVD/CD or Tape Player**\"\n",
        "* `q12_9`: `device_vgame_player` : \"Which of the following items do you personally own or have access to in school or at work (Select as many answers as you need next to each of the items) - **Video game Player (e.g., Xbox, Playstation)**\"\n",
        "* `q12_10`: `device_other` : \"Which of the following items do you personally own or have access to in school or at work (Select as many answers as you need next to each of the items) - **Other (Please specify)**\"\n",
        "### b.ii. Activity\n",
        "* 'q13_1': `time_with_friend` : 'Thinking only about yesterday, how much time did you spend doing the following:(Select one answer next to each of the following activities) - **Hanging out with friends**',\n",
        "* 'q13_2': `time_exercising` : 'Thinking only about yesterday, how much time did you spend doing the following:(Select one answer next to each of the following activities) - **Being physically active or exercising (e.g., playing sports, working out, running, etc.)**',\n",
        "* 'q13_3': `time_club_music_hobby` : 'Thinking only about yesterday, how much time did you spend doing the following:(Select one answer next to each of the following activities) - **Participating in other activities (e.g., clubs, music, art, or hobbies)**',\n",
        "* 'q13_4': `time_using_interet` : 'Thinking only about yesterday, how much time did you spend doing the following:(Select one answer next to each of the following activities) - **Using the Internet**',\n",
        "* 'q13_5': `time_reading_forwork` : 'Thinking only about yesterday, how much time did you spend doing the following:(Select one answer next to each of the following activities) - **Reading for school/doing homework**',\n",
        "* 'q13_6': `time_chores` : 'Thinking only about yesterday, how much time did you spend doing the following:(Select one answer next to each of the following activities) - **Doing chores**',\n",
        "* 'q13_7': `time_reading_forfun` : 'Thinking only about yesterday, how much time did you spend doing the following:(Select one answer next to each of the following activities) - **Reading for fun or pleasure**',\n",
        "* 'q13_8': `time_writing` : 'Thinking only about yesterday, how much time did you spend doing the following:(Select one answer next to each of the following activities) - **Writing**',\n",
        "* 'q13_9': `time_video_games` : 'Thinking only about yesterday, how much time did you spend doing the following:(Select one answer next to each of the following activities) - **Playing video games**',\n",
        "* 'q13_10': `time_watching_tv` : 'Thinking only about yesterday, how much time did you spend doing the following:(Select one answer next to each of the following activities) - **Watching TV**',\n",
        "* 'q13_11': `time_other` : 'Thinking only about yesterday, how much time did you spend doing the following:(Select one answer next to each of the following activities) - **Other (Please specify)**',\n",
        "* 'q13_11_text': `L` : 'Thinking only about yesterday, how much time did you spend doing the following:(Select one answer next to each of the following activities) - **Other (Please specify) - Text**'\n",
        "* `q14`: `time_on_various_tasks`: Thinking only about yesterday, how much time did you spend doing the following:(Select one answer next to each of the following activities) - **Other (Please specify) - Text**\n",
        "\n",
        "Renaming the variables accordingly and getting rid of unnecessary variables from the dataset."
      ],
      "metadata": {
        "id": "GRRgY1f_8pWW"
      }
    },
    {
      "cell_type": "code",
      "source": [
        "# Define renaming dictionary based on full descriptions\n",
        "# Define the renaming dictionary\n",
        "renaming_dict_background = {\n",
        "    'q4': 'gender',\n",
        "    'q6': 'experience',\n",
        "    'q7': 'sch_type',\n",
        "    'q8': 'tchr_type',\n",
        "    'q12_1': 'device_cellphone',\n",
        "    'q12_2': 'device_smrtphone_winternet',\n",
        "    'q12_3': 'device_mp3_ipod',\n",
        "    'q12_4': 'device_tablet_laptop',\n",
        "    'q12_5': 'device_desktop',\n",
        "    'q12_6': 'device_highspeed_internet',\n",
        "    'q12_7': 'device_tvset',\n",
        "    'q12_8': 'device_dvd_cdplayer',\n",
        "    'q12_9': 'device_vgame_player',\n",
        "    'q12_10': 'device_other',\n",
        "    'q13_1': 'time_with_friend',\n",
        "    'q13_2': 'time_exercising',\n",
        "    'q13_3': 'time_club_music_hobby',\n",
        "    'q13_4': 'time_using_interet',\n",
        "    'q13_5': 'time_reading_forwork',\n",
        "    'q13_6': 'time_chores',\n",
        "    'q13_7': 'time_reading_forfun',\n",
        "    'q13_8': 'time_writing',\n",
        "    'q13_9': 'time_video_games',\n",
        "    'q13_10': 'time_watching_tv',\n",
        "    'q13_11': 'time_other',\n",
        "    'q14': 'time_on_various_tasks'\n",
        "}\n",
        "\n",
        "# Apply the renaming to the dataframe\n",
        "merged_data.rename(columns=renaming_dict_background, inplace=True)\n",
        "\n",
        "# Getting rid of unnecessary columns\n",
        "cols_to_remove = [\n",
        "    'duration_in_seconds', 'ip_address', 'q8_6_text', 'q12_10_text',\n",
        "    'q13_11_text', 'q14_5_text', 'q17_8_text', 'q20_9_text',\n",
        "    'q23_7_text', 'q24_6_text', 'q27_8_text', 'q29_8_text',\n",
        "    'q30_6_text', 'q33_16_text', 'q36_6_text'\n",
        "]\n",
        "\n",
        "# Remove the selected columns\n",
        "merged_data = merged_data.drop(columns=cols_to_remove)\n",
        "\n",
        "# Display the updated columns to confirm the changes\n",
        "print(merged_data.columns.tolist())"
      ],
      "metadata": {
        "colab": {
          "base_uri": "https://localhost:8080/"
        },
        "id": "aUyP8c2EZdYc",
        "outputId": "f2d0e0d5-178b-46cd-a5f0-a932f85fc047"
      },
      "execution_count": null,
      "outputs": [
        {
          "output_type": "stream",
          "name": "stdout",
          "text": [
            "['gender', 'experience', 'sch_type', 'tchr_type', 'device_cellphone', 'device_smrtphone_winternet', 'device_mp3_ipod', 'device_tablet_laptop', 'device_desktop', 'device_highspeed_internet', 'device_tvset', 'device_dvd_cdplayer', 'device_vgame_player', 'device_other', 'time_with_friend', 'time_exercising', 'time_club_music_hobby', 'time_using_interet', 'time_reading_forwork', 'time_chores', 'time_reading_forfun', 'time_writing', 'time_video_games', 'time_watching_tv', 'time_other', 'time_on_various_tasks', 'q15', 'q16', 'q17_1', 'q17_2', 'q17_3', 'q17_4', 'q17_5', 'q17_6', 'q17_7', 'q17_8', 'q18_1', 'q18_2', 'q18_3', 'q18_4', 'q18_5', 'q18_6', 'q18_7', 'q18_7_text', 'q19', 'q20', 'q21', 'q22', 'q23_1', 'q23_2', 'q23_3', 'q23_4', 'q23_5', 'q23_6', 'q23_7', 'q24_1', 'q24_2', 'q24_3', 'q24_4', 'q24_5', 'q24_6', 'q25', 'q26', 'q27', 'q28', 'q29_1', 'q29_2', 'q29_3', 'q29_4', 'q29_5', 'q29_6', 'q29_7', 'q29_8', 'q30_1', 'q30_2', 'q30_3', 'q30_4', 'q30_5', 'q30_6', 'q31', 'q32', 'q33', 'q34', 'q35_1', 'q35_2', 'q35_3', 'q35_4', 'q35_5', 'q35_6', 'q35_7', 'q35_8', 'q35_8_text', 'q36_1', 'q36_2', 'q36_3', 'q36_4', 'q36_5', 'q36_6', 'q37']\n"
          ]
        }
      ]
    },
    {
      "cell_type": "markdown",
      "source": [
        "### d. Reading for Academic Purposes Columns\n",
        "* `q20`: `ra_text`: \"Textbook Chapters-Online,Journal articles-Online,Textbook Chapters-In print\": **Response Codes Textbook Chapters-Online, Journal articles-Online, Reports-Online, Novels-Online, Textbook Chapters-In print, Reports-In print, Novels-In print, Other materials-Please specify**\n",
        "* `q21`: `ra_time`: Time of Reading for Academic Purposes: **Response Codes 6:00 a.m.-11:59 a.m., Noon-6:00 p.m., 6:00 p.m.-11:59 p.m., Midnight-5:59 a.m.**\n",
        "* `q22`: `ra_length`: Length of Reading for Academic purposes: **Response Codes 0 minutes = 0, 15 minutes = 1, 30 minutes = 2, 45 minutes = 3, 1 hour = 4, 1.5 hours = 5, 2 hours = 6, 3 hours or more = 7**\n",
        "\n",
        "\"During which parts of the day yesterday did you read for fun? (Select the time block or blocks during which you read for fun yesterday)\": **Response Codes 6:00 a.m.-11:59 a.m., Noon-6:00 p.m., 6:00 p.m.-11:59 p.m., Midnight-5:59 a.m.**\n",
        "\n",
        "* `q23_1`: `ra_tv`:\n",
        "* `q23_2`: `ra_music`:\n",
        "* `q23_3`: `ra_write`:\n",
        "* `q23_4`: `ra_talk_phone`:\n",
        "* `q23_5`: `ra_video_game`:\n",
        "* `q23_6`: `ra_soc_network`:\n",
        "* `q23_7`: `ra_other`:\n",
        "\n",
        "**Response Codes**:\n",
        "  - Never = 0,\n",
        "  - A little of the time = 1,\n",
        "  - Some of the time = 2,\n",
        "  - Most of the time = 3\n",
        "\n",
        "* `q25`: `ra_disp`:\n",
        "\n",
        "**Response Codes**:\n",
        "- No, not at all = 0,\n",
        "- Yes, some = 1,\n",
        "- Yes, a lot = 2"
      ],
      "metadata": {
        "id": "clHJR_dNZdy0"
      }
    }
  ]
}